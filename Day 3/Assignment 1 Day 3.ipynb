{
 "cells": [
  {
   "cell_type": "code",
   "execution_count": 4,
   "metadata": {},
   "outputs": [
    {
     "name": "stdout",
     "output_type": "stream",
     "text": [
      "Enter the altitude : 1000\n",
      "Safe to Land.\n"
     ]
    }
   ],
   "source": [
    "alt = int(input(\"Enter the altitude : \"))\n",
    "if alt == 1000:\n",
    "    print(\"Safe to Land.\")\n",
    "elif 1000 < alt < 5000:\n",
    "    print(\"Bring down to 1000\")\n",
    "else:\n",
    "    print(\"Turn around.\")"
   ]
  },
  {
   "cell_type": "code",
   "execution_count": 5,
   "metadata": {},
   "outputs": [
    {
     "name": "stdout",
     "output_type": "stream",
     "text": [
      "Enter the altitude : 4500\n",
      "Bring down to 1000\n"
     ]
    }
   ],
   "source": [
    "alt = int(input(\"Enter the altitude : \"))\n",
    "if alt == 1000:\n",
    "    print(\"Safe to Land.\")\n",
    "elif 1000 < alt < 5000:\n",
    "    print(\"Bring down to 1000\")\n",
    "else:\n",
    "    print(\"Turn around.\")"
   ]
  },
  {
   "cell_type": "code",
   "execution_count": 6,
   "metadata": {},
   "outputs": [
    {
     "name": "stdout",
     "output_type": "stream",
     "text": [
      "Enter the altitude : 6500\n",
      "Turn around.\n"
     ]
    }
   ],
   "source": [
    "alt = int(input(\"Enter the altitude : \"))\n",
    "if alt == 1000:\n",
    "    print(\"Safe to Land.\")\n",
    "elif 1000 < alt < 5000:\n",
    "    print(\"Bring down to 1000\")\n",
    "else:\n",
    "    print(\"Turn around.\")"
   ]
  }
 ],
 "metadata": {
  "kernelspec": {
   "display_name": "Python 3",
   "language": "python",
   "name": "python3"
  },
  "language_info": {
   "codemirror_mode": {
    "name": "ipython",
    "version": 3
   },
   "file_extension": ".py",
   "mimetype": "text/x-python",
   "name": "python",
   "nbconvert_exporter": "python",
   "pygments_lexer": "ipython3",
   "version": "3.6.10"
  }
 },
 "nbformat": 4,
 "nbformat_minor": 4
}
