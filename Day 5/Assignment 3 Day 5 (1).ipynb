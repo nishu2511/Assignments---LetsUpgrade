{
 "cells": [
  {
   "cell_type": "code",
   "execution_count": 1,
   "metadata": {},
   "outputs": [],
   "source": [
    "# Make a lambda function for capitalizing the whole sentence passed using arguments and map all the sentences in the list,with lambda function"
   ]
  },
  {
   "cell_type": "code",
   "execution_count": 2,
   "metadata": {
    "scrolled": true
   },
   "outputs": [
    {
     "name": "stdout",
     "output_type": "stream",
     "text": [
      "['Hey I Am Naisargi', 'I Am From Ahmedabad', 'I Am Stdying In L.D.College Of Engineering']\n"
     ]
    }
   ],
   "source": [
    "str = [\"hey i am naisargi\", \"i am from ahmedabad\", \"i am stdying in l.d.college of engineering\"]\n",
    "str1 = list(map(lambda x:x.title(),str))\n",
    "print(str1)"
   ]
  }
 ],
 "metadata": {
  "kernelspec": {
   "display_name": "Python 3",
   "language": "python",
   "name": "python3"
  },
  "language_info": {
   "codemirror_mode": {
    "name": "ipython",
    "version": 3
   },
   "file_extension": ".py",
   "mimetype": "text/x-python",
   "name": "python",
   "nbconvert_exporter": "python",
   "pygments_lexer": "ipython3",
   "version": "3.6.12"
  }
 },
 "nbformat": 4,
 "nbformat_minor": 4
}
