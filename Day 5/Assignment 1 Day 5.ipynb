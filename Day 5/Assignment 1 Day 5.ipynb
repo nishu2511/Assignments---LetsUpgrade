{
 "cells": [
  {
   "cell_type": "code",
   "execution_count": 1,
   "metadata": {},
   "outputs": [],
   "source": [
    "# write a program to identify sub list [1,1,5] is there in list in the same order."
   ]
  },
  {
   "cell_type": "code",
   "execution_count": 3,
   "metadata": {},
   "outputs": [
    {
     "name": "stdout",
     "output_type": "stream",
     "text": [
      "it’s a Match\n"
     ]
    }
   ],
   "source": [
    "lst1 = [1,5,6,4,1,2,3,5]\n",
    "lst2 = [1,5,6,5,1,2,3,6]\n",
    "\n",
    "lst = [1,1,5]\n",
    "count = 0\n",
    "i=0\n",
    "for x in lst:\n",
    "    for y in lst1[i:]:\n",
    "        i+=1\n",
    "        if (x==y):\n",
    "            count+=1\n",
    "            break;\n",
    "        else:\n",
    "            pass\n",
    "        \n",
    "\n",
    "if(count==3):\n",
    "    print(\"it’s a Match\")\n",
    "else:\n",
    "    print(\"it’s Gone\")"
   ]
  },
  {
   "cell_type": "code",
   "execution_count": 4,
   "metadata": {},
   "outputs": [
    {
     "name": "stdout",
     "output_type": "stream",
     "text": [
      "it’s Gone\n"
     ]
    }
   ],
   "source": [
    "lst1 = [1,5,6,4,1,2,3,5]\n",
    "lst2 = [1,5,6,5,1,2,3,6]\n",
    "\n",
    "lst = [1,1,5]\n",
    "count = 0\n",
    "i=0\n",
    "for x in lst:\n",
    "    for y in lst2[i:]:\n",
    "        i+=1\n",
    "        if (x==y):\n",
    "            count+=1\n",
    "            break;\n",
    "        else:\n",
    "            pass\n",
    "        \n",
    "\n",
    "if(count==3):\n",
    "    print(\"it’s a Match\")\n",
    "else:\n",
    "    print(\"it’s Gone\")"
   ]
  }
 ],
 "metadata": {
  "kernelspec": {
   "display_name": "Python 3",
   "language": "python",
   "name": "python3"
  },
  "language_info": {
   "codemirror_mode": {
    "name": "ipython",
    "version": 3
   },
   "file_extension": ".py",
   "mimetype": "text/x-python",
   "name": "python",
   "nbconvert_exporter": "python",
   "pygments_lexer": "ipython3",
   "version": "3.6.12"
  }
 },
 "nbformat": 4,
 "nbformat_minor": 4
}
