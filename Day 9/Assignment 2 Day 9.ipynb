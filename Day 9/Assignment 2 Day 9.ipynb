{
 "cells": [
  {
   "cell_type": "markdown",
   "metadata": {},
   "source": [
    "# Unit Testing"
   ]
  },
  {
   "cell_type": "code",
   "execution_count": 1,
   "metadata": {
    "scrolled": true
   },
   "outputs": [
    {
     "name": "stdout",
     "output_type": "stream",
     "text": [
      "Requirement already satisfied: pylint in c:\\users\\user\\miniconda3\\envs\\women4.0\\lib\\site-packages (2.6.0)\n",
      "Requirement already satisfied: astroid<=2.5,>=2.4.0 in c:\\users\\user\\miniconda3\\envs\\women4.0\\lib\\site-packages (from pylint) (2.4.2)\n",
      "Requirement already satisfied: isort<6,>=4.2.5 in c:\\users\\user\\miniconda3\\envs\\women4.0\\lib\\site-packages (from pylint) (5.5.2)\n",
      "Requirement already satisfied: toml>=0.7.1 in c:\\users\\user\\miniconda3\\envs\\women4.0\\lib\\site-packages (from pylint) (0.10.1)\n",
      "Requirement already satisfied: mccabe<0.7,>=0.6 in c:\\users\\user\\miniconda3\\envs\\women4.0\\lib\\site-packages (from pylint) (0.6.1)\n",
      "Requirement already satisfied: colorama; sys_platform == \"win32\" in c:\\users\\user\\miniconda3\\envs\\women4.0\\lib\\site-packages (from pylint) (0.4.3)\n",
      "Requirement already satisfied: typed-ast<1.5,>=1.4.0; implementation_name == \"cpython\" and python_version < \"3.8\" in c:\\users\\user\\miniconda3\\envs\\women4.0\\lib\\site-packages (from astroid<=2.5,>=2.4.0->pylint) (1.4.1)\n",
      "Requirement already satisfied: wrapt~=1.11 in c:\\users\\user\\miniconda3\\envs\\women4.0\\lib\\site-packages (from astroid<=2.5,>=2.4.0->pylint) (1.12.1)\n",
      "Requirement already satisfied: lazy-object-proxy==1.4.* in c:\\users\\user\\miniconda3\\envs\\women4.0\\lib\\site-packages (from astroid<=2.5,>=2.4.0->pylint) (1.4.3)\n",
      "Requirement already satisfied: six~=1.12 in c:\\users\\user\\miniconda3\\envs\\women4.0\\lib\\site-packages (from astroid<=2.5,>=2.4.0->pylint) (1.15.0)\n"
     ]
    }
   ],
   "source": [
    "! pip install pylint"
   ]
  },
  {
   "cell_type": "code",
   "execution_count": 2,
   "metadata": {},
   "outputs": [
    {
     "name": "stdout",
     "output_type": "stream",
     "text": [
      "Requirement already satisfied: unittest2 in c:\\users\\user\\miniconda3\\envs\\women4.0\\lib\\site-packages (1.1.0)\n",
      "Requirement already satisfied: traceback2 in c:\\users\\user\\miniconda3\\envs\\women4.0\\lib\\site-packages (from unittest2) (1.4.0)\n",
      "Requirement already satisfied: argparse in c:\\users\\user\\miniconda3\\envs\\women4.0\\lib\\site-packages (from unittest2) (1.4.0)\n",
      "Requirement already satisfied: six>=1.4 in c:\\users\\user\\miniconda3\\envs\\women4.0\\lib\\site-packages (from unittest2) (1.15.0)\n",
      "Requirement already satisfied: linecache2 in c:\\users\\user\\miniconda3\\envs\\women4.0\\lib\\site-packages (from traceback2->unittest2) (1.0.0)\n"
     ]
    }
   ],
   "source": [
    "! pip install unittest2"
   ]
  },
  {
   "cell_type": "markdown",
   "metadata": {},
   "source": [
    "# pylint"
   ]
  },
  {
   "cell_type": "code",
   "execution_count": 5,
   "metadata": {
    "scrolled": true
   },
   "outputs": [
    {
     "name": "stdout",
     "output_type": "stream",
     "text": [
      "Overwriting prime.py\n"
     ]
    }
   ],
   "source": [
    "# use pylint for unit testing for a program that check whether given number is prime or not\n",
    "\n",
    "%%writefile prime.py\n",
    "'''\n",
    "This is a module to check wether the given number is prime or not\n",
    "'''\n",
    "def check_prime(num):\n",
    "    '''\n",
    "    This is the function which check out the given number is prime or not\n",
    "    '''\n",
    "    if num > 1:\n",
    "        for i in range(2, num):\n",
    "            if (num % i) == 0:\n",
    "                break\n",
    "            return print(\"It is a Prime Number\")\n",
    "    return print(\"It is not a Prime Number\")\n",
    "n = int(input(\"enter the number :\"))\n",
    "check_prime(n)"
   ]
  },
  {
   "cell_type": "code",
   "execution_count": 14,
   "metadata": {},
   "outputs": [
    {
     "name": "stdout",
     "output_type": "stream",
     "text": [
      "It is a Prime Number\n"
     ]
    }
   ],
   "source": [
    "import prime\n",
    "prime.check_prime(51)"
   ]
  },
  {
   "cell_type": "code",
   "execution_count": 6,
   "metadata": {},
   "outputs": [
    {
     "name": "stdout",
     "output_type": "stream",
     "text": [
      "\n",
      "-------------------------------------------------------------------\n",
      "\n",
      "Your code has been rated at 10.00/10 (previous run: 7.78/10, +2.22)\n",
      "\n",
      "\n",
      "\n"
     ]
    }
   ],
   "source": [
    "! pylint prime.py"
   ]
  }
 ],
 "metadata": {
  "kernelspec": {
   "display_name": "Python 3",
   "language": "python",
   "name": "python3"
  },
  "language_info": {
   "codemirror_mode": {
    "name": "ipython",
    "version": 3
   },
   "file_extension": ".py",
   "mimetype": "text/x-python",
   "name": "python",
   "nbconvert_exporter": "python",
   "pygments_lexer": "ipython3",
   "version": "3.6.12"
  }
 },
 "nbformat": 4,
 "nbformat_minor": 4
}
