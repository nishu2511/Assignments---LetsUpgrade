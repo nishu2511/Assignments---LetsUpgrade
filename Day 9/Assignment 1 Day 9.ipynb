{
 "cells": [
  {
   "cell_type": "markdown",
   "metadata": {},
   "source": [
    "# use generator for printing armstrong number between 1 to 1000"
   ]
  },
  {
   "cell_type": "code",
   "execution_count": 1,
   "metadata": {},
   "outputs": [],
   "source": [
    "def calculate_armstrong(num):\n",
    "    for x in range(1,num):\n",
    "        if x>=1:\n",
    "            order = len(str(x))\n",
    "            sum = 0\n",
    "            temp = x\n",
    "            while temp > 0:\n",
    "                digit = temp % 10\n",
    "                sum += digit ** order\n",
    "                temp //= 10\n",
    "            if x == sum:\n",
    "                yield print(\"The Armstrong Nubmer is : \", x) "
   ]
  },
  {
   "cell_type": "code",
   "execution_count": 2,
   "metadata": {},
   "outputs": [
    {
     "name": "stdout",
     "output_type": "stream",
     "text": [
      "The Armstrong Nubmer is :  1\n",
      "The Armstrong Nubmer is :  2\n",
      "The Armstrong Nubmer is :  3\n",
      "The Armstrong Nubmer is :  4\n",
      "The Armstrong Nubmer is :  5\n",
      "The Armstrong Nubmer is :  6\n",
      "The Armstrong Nubmer is :  7\n",
      "The Armstrong Nubmer is :  8\n",
      "The Armstrong Nubmer is :  9\n",
      "The Armstrong Nubmer is :  153\n",
      "The Armstrong Nubmer is :  370\n",
      "The Armstrong Nubmer is :  371\n",
      "The Armstrong Nubmer is :  407\n"
     ]
    }
   ],
   "source": [
    "lst = list(calculate_armstrong(1000))"
   ]
  },
  {
   "cell_type": "code",
   "execution_count": null,
   "metadata": {},
   "outputs": [],
   "source": []
  }
 ],
 "metadata": {
  "kernelspec": {
   "display_name": "Python 3",
   "language": "python",
   "name": "python3"
  },
  "language_info": {
   "codemirror_mode": {
    "name": "ipython",
    "version": 3
   },
   "file_extension": ".py",
   "mimetype": "text/x-python",
   "name": "python",
   "nbconvert_exporter": "python",
   "pygments_lexer": "ipython3",
   "version": "3.6.12"
  }
 },
 "nbformat": 4,
 "nbformat_minor": 4
}
