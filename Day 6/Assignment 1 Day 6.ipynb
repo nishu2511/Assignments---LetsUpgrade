{
 "cells": [
  {
   "cell_type": "code",
   "execution_count": 4,
   "metadata": {},
   "outputs": [],
   "source": [
    "#Create a bank account class that has two attributes\n",
    "# ownername and balance\n",
    "#and two methods deposit and withdraw\n",
    "#as an added requiremnt , withdrawal may not exceed the available balance\n",
    "\n",
    "    def __init__(self,ownerName,balance):\n",
    "        self.ownerName = ownerName\n",
    "        self.balance = balanc\n",
    "\n",
    "    def deposit(self,amount):\n",
    "        amount = self.balance + amount\n",
    "        return print(\"Your updated balance is:\", amount)\n",
    "\n",
    "    def withdraw(self,amount):\n",
    "        if self.balance > 0:\n",
    "            amount = self.balance - amount\n",
    "            return print(\"Your updated balance is:\", amount)\n",
    "        else:\n",
    "            print(\"You cannot withdraw money bcz you have no moeny in your account.\")"
   ]
  },
  {
   "cell_type": "code",
   "execution_count": 5,
   "metadata": {},
   "outputs": [],
   "source": [
    "seema = account(\"Seema\",5000)"
   ]
  },
  {
   "cell_type": "code",
   "execution_count": 6,
   "metadata": {},
   "outputs": [
    {
     "name": "stdout",
     "output_type": "stream",
     "text": [
      "Your updated balance is: 9000\n"
     ]
    }
   ],
   "source": [
    "seema.deposit(4000)"
   ]
  },
  {
   "cell_type": "code",
   "execution_count": 7,
   "metadata": {},
   "outputs": [],
   "source": [
    "reema = account(\"Reema\",0)"
   ]
  },
  {
   "cell_type": "code",
   "execution_count": 8,
   "metadata": {},
   "outputs": [
    {
     "name": "stdout",
     "output_type": "stream",
     "text": [
      "You cannot withdraw money bcz you have no moeny in your account.\n"
     ]
    }
   ],
   "source": [
    "reema.withdraw(1000)"
   ]
  }
 ],
 "metadata": {
  "kernelspec": {
   "display_name": "Python 3",
   "language": "python",
   "name": "python3"
  },
  "language_info": {
   "codemirror_mode": {
    "name": "ipython",
    "version": 3
   },
   "file_extension": ".py",
   "mimetype": "text/x-python",
   "name": "python",
   "nbconvert_exporter": "python",
   "pygments_lexer": "ipython3",
   "version": "3.6.12"
  }
 },
 "nbformat": 4,
 "nbformat_minor": 4
}
