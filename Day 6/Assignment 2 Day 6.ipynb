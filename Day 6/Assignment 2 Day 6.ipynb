{
 "cells": [
  {
   "cell_type": "code",
   "execution_count": 1,
   "metadata": {},
   "outputs": [],
   "source": [
    "# create a class that has two attributes radius and height and two methods volume ans surface area "
   ]
  },
  {
   "cell_type": "code",
   "execution_count": 3,
   "metadata": {},
   "outputs": [
    {
     "name": "stdout",
     "output_type": "stream",
     "text": [
      "radius = 3 height = 4\n",
      "37.69911184307752\n",
      "75.39822368615503\n"
     ]
    }
   ],
   "source": [
    "import math\n",
    "class cone():\n",
    "\n",
    "    def __init__(self, radius, height):\n",
    "        self.radius = radius\n",
    "        self.height = height\n",
    "        print(\"radius =\", self.radius, \"height =\", self.height)\n",
    "\n",
    "    def IsVolume(self, radius, height):\n",
    "        v = (math.pi* (self.radius ** 2) * (self.height / 3))\n",
    "        return v\n",
    "\n",
    "    def IsSurfaceArea(self, radius, height):\n",
    "        s = (math.pi * self.radius*(self.radius + math.sqrt((self.height ** 2) + (self.radius ** 2))))\n",
    "        return s\n",
    "\n",
    "x = cone(3,4)\n",
    "\n",
    "y = x.IsVolume(3,4)\n",
    "print(y)\n",
    "\n",
    "z = x.IsSurfaceArea(3,4)\n",
    "print(z)"
   ]
  }
 ],
 "metadata": {
  "kernelspec": {
   "display_name": "Python 3",
   "language": "python",
   "name": "python3"
  },
  "language_info": {
   "codemirror_mode": {
    "name": "ipython",
    "version": 3
   },
   "file_extension": ".py",
   "mimetype": "text/x-python",
   "name": "python",
   "nbconvert_exporter": "python",
   "pygments_lexer": "ipython3",
   "version": "3.6.12"
  }
 },
 "nbformat": 4,
 "nbformat_minor": 4
}
